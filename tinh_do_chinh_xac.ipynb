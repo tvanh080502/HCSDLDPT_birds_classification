{
 "cells": [
  {
   "cell_type": "code",
   "execution_count": 31,
   "metadata": {},
   "outputs": [],
   "source": [
    "import pandas as pd\n",
    "import matplotlib.pyplot as plt\n",
    "import seaborn as sns\n",
    "import os\n",
    "import random\n",
    "import numpy as np\n",
    "import tensorflow as tf\n",
    "import cv2"
   ]
  },
  {
   "cell_type": "markdown",
   "metadata": {},
   "source": [
    "Tải lên dữ liệu đã trích rút"
   ]
  },
  {
   "cell_type": "code",
   "execution_count": 32,
   "metadata": {},
   "outputs": [],
   "source": [
    "path=\"D:/HCSDLDPT/HCSDLDPT_birds_classification/\"\n",
    "path_bird_data= path+\"bird_data.npy\"\n",
    "path_rgb=path+\"bird_RGB.npy\"\n",
    "path_hsv=path+\"bird_HSV.npy\"\n",
    "path_hog=path+\"bird_HOG.npy\"\n",
    "path_hog_hsv=path+\"concat_hog_hsv.npy\"\n",
    "path_hog_rgb=path+\"concat_hog_rgb.npy\""
   ]
  },
  {
   "cell_type": "code",
   "execution_count": 33,
   "metadata": {},
   "outputs": [],
   "source": [
    "import numpy as np\n",
    "# Load the NumPy file\n",
    "flower_data = np.load(path_bird_data, allow_pickle=\"True\")\n",
    "data_RGB = np.load(path_rgb,allow_pickle=\"True\")\n",
    "data_HSV = np.load(path_hsv ,allow_pickle=\"True\")\n",
    "data_HOG = np.load(path_hog , allow_pickle=\"True\")\n",
    "data_HOG_HSV=np.load(path_hog_hsv, allow_pickle=\"True\")\n",
    "data_HOG_RGB=np.load(path_hog_rgb, allow_pickle=\"True\")"
   ]
  },
  {
   "cell_type": "markdown",
   "metadata": {},
   "source": [
    "Hàm Test bằng KNN\n"
   ]
  },
  {
   "cell_type": "code",
   "execution_count": 34,
   "metadata": {},
   "outputs": [],
   "source": [
    "import math\n",
    "\n",
    "def distance_euclidean(x, y):\n",
    "    if len(x) != len(y):\n",
    "        return None  # Invalid input\n",
    "    squared_distance = 0\n",
    "    for i in range(len(x)):\n",
    "        squared_distance += (x[i] - y[i]) ** 2\n",
    "    return squared_distance ** 0.5 \n",
    "\n",
    "def distance_cosine_similarity(x, y):\n",
    "    dot_product = sum([xi * yi for xi, yi in zip(x, y)])\n",
    "    magnitude_x = math.sqrt(sum([xi**2 for xi in x]))\n",
    "    magnitude_y = math.sqrt(sum([yi**2 for yi in y]))\n",
    "    return dot_product / (magnitude_x * magnitude_y)"
   ]
  },
  {
   "cell_type": "code",
   "execution_count": 35,
   "metadata": {},
   "outputs": [],
   "source": [
    "# Tìm k điểm gần nhất\n",
    "def knn(X_train, y_train, x_new, k):\n",
    "    distances = []\n",
    "    for i in range(len(X_train)):\n",
    "        d = distance_euclidean(X_train[i], x_new)\n",
    "        distances.append((d, y_train[i]))\n",
    "    distances.sort()\n",
    "    k_nearest = distances[:k]\n",
    "    # Dự đoán nhãn cho điểm dữ liệu mới\n",
    "    labels = {}\n",
    "    for distance in k_nearest:\n",
    "        label = distance[1]\n",
    "        if label in labels:\n",
    "            labels[label] += 1\n",
    "        else:\n",
    "            labels[label] = 1\n",
    "    sorted_labels = sorted(labels.items(), key=lambda x: x[1], reverse=True)\n",
    "    return sorted_labels[0][0]"
   ]
  },
  {
   "cell_type": "markdown",
   "metadata": {},
   "source": [
    "RGB"
   ]
  },
  {
   "cell_type": "code",
   "execution_count": 36,
   "metadata": {},
   "outputs": [],
   "source": [
    "#data_RGB\n",
    "X_RGB_train=[] ;X_RGB_test =[] ; y_RGB_train=[]; y_RGB_test=[]\n",
    "count=1\n",
    "for i in data_RGB:\n",
    "  count+=1\n",
    "  if count%3==1:\n",
    "    X_RGB_test.append(i[1])\n",
    "    y_RGB_test.append(i[0])\n",
    "  else:\n",
    "    X_RGB_train.append(i[1])\n",
    "    y_RGB_train.append(i[0])"
   ]
  },
  {
   "cell_type": "code",
   "execution_count": 37,
   "metadata": {},
   "outputs": [
    {
     "name": "stdout",
     "output_type": "stream",
     "text": [
      "[1, 2, 3, 4, 5, 7, 8, 9, 10, 10, 11, 12, 13, 14, 15, 15, 17, 19, 20, 20, 21, 22, 23, 25, 26, 27, 27, 28, 29, 30, 31, 33, 34, 36, 38, 39, 41, 43, 44, 44, 45, 47, 48, 48, 49, 51, 52, 52, 54, 54, 55, 56, 57, 57]\n",
      "[26, 39, 20, 49, 5, 0, 5, 9, 39, 56, 35, 2, 12, 3, 15, 39, 6, 19, 20, 20, 22, 22, 23, 34, 33, 33, 33, 18, 58, 33, 49, 26, 12, 3, 48, 39, 33, 12, 3, 8, 28, 8, 26, 48, 56, 5, 55, 57, 54, 41, 10, 28, 39, 57]\n",
      "Accuracy: 0.22\n"
     ]
    }
   ],
   "source": [
    "from sklearn.metrics import accuracy_score\n",
    "\n",
    "y_RGB_pred=[]\n",
    "for i in X_RGB_test:\n",
    "  res= knn(X_RGB_train,y_RGB_train,i,7)\n",
    "  y_RGB_pred.append(res)\n",
    "print(y_RGB_test)\n",
    "print(y_RGB_pred)\n",
    "accuracy = accuracy_score(y_RGB_test, y_RGB_pred)\n",
    "print(f\"Accuracy: {accuracy:.2f}\")"
   ]
  },
  {
   "cell_type": "markdown",
   "metadata": {},
   "source": [
    "HSV"
   ]
  },
  {
   "cell_type": "code",
   "execution_count": 38,
   "metadata": {},
   "outputs": [],
   "source": [
    "#data_HSV\n",
    "X_HSV_train=[] ;X_HSV_test =[] ; y_HSV_train=[]; y_HSV_test=[]\n",
    "count=1\n",
    "for i in data_HSV:\n",
    "  count+=1\n",
    "  if count%3==1:\n",
    "    X_HSV_test.append(i[1])\n",
    "    y_HSV_test.append(i[0])\n",
    "  else:\n",
    "    X_HSV_train.append(i[1])\n",
    "    y_HSV_train.append(i[0])"
   ]
  },
  {
   "cell_type": "code",
   "execution_count": 39,
   "metadata": {},
   "outputs": [
    {
     "name": "stdout",
     "output_type": "stream",
     "text": [
      "[1, 2, 3, 4, 5, 7, 8, 9, 10, 10, 11, 12, 13, 14, 15, 15, 17, 19, 20, 20, 21, 22, 23, 25, 26, 27, 27, 28, 29, 30, 31, 33, 34, 36, 38, 39, 41, 43, 44, 44, 45, 47, 48, 48, 49, 51, 52, 52, 54, 54, 55, 56, 57, 57]\n",
      "[19, 12, 20, 49, 39, 5, 5, 9, 0, 42, 12, 12, 12, 3, 53, 26, 29, 19, 20, 3, 12, 11, 23, 46, 26, 29, 29, 12, 58, 33, 20, 33, 58, 47, 26, 39, 33, 43, 3, 8, 8, 8, 26, 15, 3, 21, 0, 21, 54, 5, 31, 28, 39, 57]\n",
      "Accuracy: 0.20\n"
     ]
    }
   ],
   "source": [
    "from sklearn.metrics import accuracy_score\n",
    "\n",
    "y_HSV_pred=[]\n",
    "for i in X_HSV_test:\n",
    "  res= knn(X_HSV_train,y_HSV_train,i,7)\n",
    "  y_HSV_pred.append(res)\n",
    "print(y_HSV_test)\n",
    "print(y_HSV_pred)\n",
    "accuracy = accuracy_score(y_HSV_test, y_HSV_pred)\n",
    "print(f\"Accuracy: {accuracy:.2f}\")"
   ]
  },
  {
   "cell_type": "markdown",
   "metadata": {},
   "source": [
    "HOG"
   ]
  },
  {
   "cell_type": "code",
   "execution_count": 40,
   "metadata": {},
   "outputs": [],
   "source": [
    "#data_HOG\n",
    "X_HOG_train=[] ;X_HOG_test =[] ; y_HOG_train=[]; y_HOG_test=[]\n",
    "count=1\n",
    "for i in data_HOG:\n",
    "  count+=1\n",
    "  if count%3==1:\n",
    "    X_HOG_test.append(i[1])\n",
    "    y_HOG_test.append(i[0])\n",
    "  else:\n",
    "    X_HOG_train.append(i[1])\n",
    "    y_HOG_train.append(i[0])"
   ]
  },
  {
   "cell_type": "code",
   "execution_count": 41,
   "metadata": {},
   "outputs": [
    {
     "name": "stdout",
     "output_type": "stream",
     "text": [
      "0 1 2 3 4 5 6 7 8 9 10 11 12 13 14 15 16 17 18 19 20 21 22 23 24 25 26 27 28 29 30 31 32 33 34 35 36 37 38 39 40 41 42 43 44 45 46 47 48 49 50 51 52 53 [1, 2, 3, 4, 5, 7, 8, 9, 10, 10, 11, 12, 13, 14, 15, 15, 17, 19, 20, 20, 21, 22, 23, 25, 26, 27, 27, 28, 29, 30, 31, 33, 34, 36, 38, 39, 41, 43, 44, 44, 45, 47, 48, 48, 49, 51, 52, 52, 54, 54, 55, 56, 57, 57]\n",
      "[18, 22, 54, 35, 14, 9, 22, 22, 12, 13, 12, 12, 10, 22, 36, 19, 21, 19, 29, 20, 18, 22, 12, 14, 23, 34, 50, 39, 26, 12, 22, 12, 6, 48, 39, 12, 12, 31, 26, 48, 14, 17, 54, 48, 16, 51, 22, 17, 17, 22, 55, 22, 29, 48]\n",
      "Accuracy: 0.13\n"
     ]
    }
   ],
   "source": [
    "from sklearn.metrics import accuracy_score\n",
    "\n",
    "y_HOG_pred=[]\n",
    "progress=0\n",
    "for i in X_HOG_test:\n",
    "  res= knn(X_HOG_train,y_HOG_train,i,7)\n",
    "  y_HOG_pred.append(res)\n",
    "  print(progress,end=\" \")\n",
    "  progress+=1\n",
    "\n",
    "\n",
    "print(y_HOG_test)\n",
    "print(y_HOG_pred)\n",
    "accuracy = accuracy_score(y_HOG_test, y_HOG_pred)\n",
    "print(f\"Accuracy: {accuracy:.2f}\")"
   ]
  },
  {
   "cell_type": "markdown",
   "metadata": {},
   "source": [
    "HOG + HSV"
   ]
  },
  {
   "cell_type": "code",
   "execution_count": 42,
   "metadata": {},
   "outputs": [],
   "source": [
    "#data_HOG_HSV\n",
    "X_HOG_HSV_train=[] ;X_HOG_HSV_test =[] ; y_HOG_HSV_train=[]; y_HOG_HSV_test=[]\n",
    "count=1\n",
    "for i in data_HOG_HSV:\n",
    "  count+=1\n",
    "  if count%3==1:\n",
    "    X_HOG_HSV_test.append(i[1])\n",
    "    y_HOG_HSV_test.append(i[0])\n",
    "  else:\n",
    "    X_HOG_HSV_train.append(i[1])\n",
    "    y_HOG_HSV_train.append(i[0])"
   ]
  },
  {
   "cell_type": "code",
   "execution_count": 43,
   "metadata": {},
   "outputs": [
    {
     "name": "stdout",
     "output_type": "stream",
     "text": [
      "0 1 2 3 4 5 6 7 8 9 10 11 12 13 14 15 16 17 18 19 20 21 22 23 24 25 26 27 28 29 30 31 32 33 34 35 36 37 38 39 40 41 42 43 44 45 46 47 48 49 50 51 52 53 \n",
      "[1, 2, 3, 4, 5, 7, 8, 9, 10, 10, 11, 12, 13, 14, 15, 15, 17, 19, 20, 20, 21, 22, 23, 25, 26, 27, 27, 28, 29, 30, 31, 33, 34, 36, 38, 39, 41, 43, 44, 44, 45, 47, 48, 48, 49, 51, 52, 52, 54, 54, 55, 56, 57, 57]\n",
      "[19, 12, 20, 49, 39, 5, 5, 9, 0, 42, 12, 12, 12, 3, 53, 26, 29, 19, 20, 3, 12, 11, 23, 46, 26, 29, 29, 12, 58, 33, 20, 33, 58, 47, 26, 39, 33, 43, 3, 8, 8, 8, 26, 15, 3, 21, 0, 21, 54, 5, 31, 28, 39, 57]\n",
      "Accuracy: 0.20\n"
     ]
    }
   ],
   "source": [
    "from sklearn.metrics import accuracy_score\n",
    "\n",
    "y_HOG_HSV_pred=[]\n",
    "progress=0\n",
    "for i in X_HOG_HSV_test:\n",
    "  res= knn(X_HOG_HSV_train,y_HOG_HSV_train,i,7)\n",
    "  y_HOG_HSV_pred.append(res)\n",
    "  print(progress,end=\" \")\n",
    "  progress+=1\n",
    "\n",
    "print()\n",
    "print(y_HOG_HSV_test)\n",
    "print(y_HOG_HSV_pred)\n",
    "accuracy = accuracy_score(y_HOG_HSV_test, y_HOG_HSV_pred)\n",
    "print(f\"Accuracy: {accuracy:.2f}\")"
   ]
  },
  {
   "cell_type": "markdown",
   "metadata": {},
   "source": [
    "HOG + RGB"
   ]
  },
  {
   "cell_type": "code",
   "execution_count": 44,
   "metadata": {},
   "outputs": [],
   "source": [
    "#data_HOG_RGB\n",
    "X_HOG_RGB_train=[] ;X_HOG_RGB_test =[] ; y_HOG_RGB_train=[]; y_HOG_RGB_test=[]\n",
    "count=1\n",
    "for i in data_HOG_RGB:\n",
    "  count+=1\n",
    "  if count%3==1:\n",
    "    X_HOG_RGB_test.append(i[1])\n",
    "    y_HOG_RGB_test.append(i[0])\n",
    "  else:\n",
    "    X_HOG_RGB_train.append(i[1])\n",
    "    y_HOG_RGB_train.append(i[0])"
   ]
  },
  {
   "cell_type": "code",
   "execution_count": 45,
   "metadata": {},
   "outputs": [
    {
     "name": "stdout",
     "output_type": "stream",
     "text": [
      "0 1 2 3 4 5 6 7 8 9 10 11 12 13 14 15 16 17 18 19 20 21 22 23 24 25 26 27 28 29 30 31 32 33 34 35 36 37 38 39 40 41 42 43 44 45 46 47 48 49 50 51 52 53 \n",
      "[1, 2, 3, 4, 5, 7, 8, 9, 10, 10, 11, 12, 13, 14, 15, 15, 17, 19, 20, 20, 21, 22, 23, 25, 26, 27, 27, 28, 29, 30, 31, 33, 34, 36, 38, 39, 41, 43, 44, 44, 45, 47, 48, 48, 49, 51, 52, 52, 54, 54, 55, 56, 57, 57]\n",
      "[26, 39, 20, 49, 5, 0, 5, 9, 39, 56, 35, 2, 12, 3, 15, 39, 6, 19, 20, 20, 22, 22, 23, 34, 33, 33, 33, 18, 58, 33, 49, 26, 12, 3, 48, 39, 33, 12, 3, 8, 28, 8, 26, 48, 56, 5, 55, 57, 54, 41, 10, 28, 39, 57]\n",
      "Accuracy: 0.22\n"
     ]
    }
   ],
   "source": [
    "from sklearn.metrics import accuracy_score\n",
    "\n",
    "y_HOG_RGB_pred=[]\n",
    "progress=0\n",
    "for i in X_HOG_RGB_test:\n",
    "  res= knn(X_HOG_RGB_train,y_HOG_RGB_train,i,7)\n",
    "  y_HOG_RGB_pred.append(res)\n",
    "  print(progress,end=\" \")\n",
    "  progress+=1\n",
    "\n",
    "print()\n",
    "print(y_HOG_RGB_test)\n",
    "print(y_HOG_RGB_pred)\n",
    "accuracy = accuracy_score(y_HOG_RGB_test, y_HOG_RGB_pred)\n",
    "print(f\"Accuracy: {accuracy:.2f}\")"
   ]
  }
 ],
 "metadata": {
  "kernelspec": {
   "display_name": "Python 3",
   "language": "python",
   "name": "python3"
  },
  "language_info": {
   "codemirror_mode": {
    "name": "ipython",
    "version": 3
   },
   "file_extension": ".py",
   "mimetype": "text/x-python",
   "name": "python",
   "nbconvert_exporter": "python",
   "pygments_lexer": "ipython3",
   "version": "3.11.3"
  }
 },
 "nbformat": 4,
 "nbformat_minor": 2
}
